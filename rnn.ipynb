{
 "cells": [
  {
   "cell_type": "code",
   "execution_count": 6,
   "metadata": {
    "origin_pos": 2,
    "tab": [
     "pytorch"
    ]
   },
   "outputs": [
    {
     "name": "stdout",
     "output_type": "stream",
     "text": [
      "teenager\n"
     ]
    }
   ],
   "source": [
    "age=2\n",
    "if age >= 18:\n",
    "    print('adule')\n",
    "else:\n",
    "    print('teenager')"
   ]
  },
  {
   "cell_type": "code",
   "execution_count": 7,
   "metadata": {},
   "outputs": [
    {
     "data": {
      "text/plain": [
       "1"
      ]
     },
     "execution_count": 7,
     "metadata": {},
     "output_type": "execute_result"
    }
   ],
   "source": [
    "10 % 3"
   ]
  },
  {
   "cell_type": "code",
   "execution_count": 8,
   "metadata": {},
   "outputs": [
    {
     "data": {
      "text/plain": [
       "33"
      ]
     },
     "execution_count": 8,
     "metadata": {},
     "output_type": "execute_result"
    }
   ],
   "source": [
    "100//3"
   ]
  },
  {
   "cell_type": "code",
   "execution_count": 9,
   "metadata": {},
   "outputs": [
    {
     "data": {
      "text/plain": [
       "3.0303030303030303"
      ]
     },
     "execution_count": 9,
     "metadata": {},
     "output_type": "execute_result"
    }
   ],
   "source": [
    "100/33"
   ]
  },
  {
   "cell_type": "code",
   "execution_count": 38,
   "metadata": {},
   "outputs": [
    {
     "name": "stdout",
     "output_type": "stream",
     "text": [
      "a: @@@\n",
      "-------------\n",
      "b: @@\n",
      "@\n",
      "\n",
      "-------------\n",
      "c: @@\n",
      "@\n",
      "d: sdas,\\d\n",
      "e: sdas,\\d\n",
      "asd\n",
      "dasd\n",
      "\n"
     ]
    }
   ],
   "source": [
    "# print(r'''sb,\n",
    "# ni!''')\n",
    "\n",
    "\n",
    "a='@@@'\n",
    "b='''@@\n",
    "@\n",
    "'''\n",
    "c='@@\\n@'\n",
    "\n",
    "print('a:',a)\n",
    "print('-------------')\n",
    "print('b:',b)\n",
    "print('-------------')\n",
    "print('c:',c)\n",
    "\n",
    "\n",
    "d=r'sdas,\\d'\n",
    "e=r'''sdas,\\d\n",
    "asd\n",
    "dasd\n",
    "'''\n",
    "print('d:',d)\n",
    "print('e:',e)\n",
    "\n"
   ]
  },
  {
   "cell_type": "code",
   "execution_count": 26,
   "metadata": {},
   "outputs": [
    {
     "name": "stdout",
     "output_type": "stream",
     "text": [
      "\n",
      "    a=10\n",
      "    b=11\n",
      "    c2=30\n",
      "    f6=100\n",
      "    as='sb,go to heal'\n",
      "    \n"
     ]
    }
   ],
   "source": [
    "print('''\n",
    "    a=10\n",
    "    b=11\n",
    "    c2=30\n",
    "    f6=100\n",
    "    as=\\'sb,go to heal\\'\n",
    "    ''')"
   ]
  },
  {
   "cell_type": "code",
   "execution_count": 28,
   "metadata": {},
   "outputs": [
    {
     "name": "stdout",
     "output_type": "stream",
     "text": [
      "Hello,\n",
      "Lisa!\n"
     ]
    }
   ],
   "source": [
    "print(r'''Hello,\n",
    "Lisa!''')"
   ]
  },
  {
   "cell_type": "code",
   "execution_count": 56,
   "metadata": {},
   "outputs": [
    {
     "name": "stdout",
     "output_type": "stream",
     "text": [
      "1\n",
      "2\n",
      "hhh\n",
      "3\n"
     ]
    }
   ],
   "source": [
    "print('1')\n",
    "name=input()\n",
    "print('2')\n",
    "print(name)\n",
    "print('3')"
   ]
  },
  {
   "cell_type": "code",
   "execution_count": 68,
   "metadata": {},
   "outputs": [
    {
     "name": "stdout",
     "output_type": "stream",
     "text": [
      "21608\n",
      "鮾\n"
     ]
    }
   ],
   "source": [
    "print(ord('周'))\n",
    "print(chr(39870))\n"
   ]
  },
  {
   "cell_type": "code",
   "execution_count": 113,
   "metadata": {},
   "outputs": [
    {
     "name": "stdout",
     "output_type": "stream",
     "text": [
      "你好 Yurri,你本年度的年假共4有天,0.300000请知悉.\n",
      "周林凯是傻逼,他每年有200天都在吃屎,200天中有80天在吃稀屎!\n"
     ]
    }
   ],
   "source": [
    "print('你好 %s,你本年度的年假共%d有天,%f请知悉.' % ('Yurri',4,0.3))\n",
    "print('%s是傻逼,他每年有%d天都在吃屎,%d天中有%d天在吃稀屎!' % ('周林凯',200,200,80) )"
   ]
  },
  {
   "cell_type": "code",
   "execution_count": 119,
   "metadata": {},
   "outputs": [
    {
     "name": "stdout",
     "output_type": "stream",
     "text": [
      "                             5-000000005\n",
      "3.14159\n",
      "yurri,today is 80 %\n"
     ]
    }
   ],
   "source": [
    "print('%30d-%09d'%(5,5))\n",
    "print('%.5f'%3.1415926)\n",
    "print('%s,today is 80 %%' % 'yurri')"
   ]
  },
  {
   "cell_type": "code",
   "execution_count": 128,
   "metadata": {},
   "outputs": [
    {
     "name": "stdout",
     "output_type": "stream",
     "text": [
      "hello,sb,你今天做了100个俯卧撑,比昨天进步75.7%,明天继续加油!\n"
     ]
    }
   ],
   "source": [
    "print('hello,{0},你今天做了{1}个俯卧撑,比昨天进步{2:.1f}%,明天继续加油!'.format('sb',100,75.67))"
   ]
  },
  {
   "cell_type": "code",
   "execution_count": 138,
   "metadata": {},
   "outputs": [
    {
     "name": "stdout",
     "output_type": "stream",
     "text": [
      "如果今天朋友来访，我们就吃肉不喝酒\n"
     ]
    }
   ],
   "source": [
    "a='吃肉'\n",
    "b='喝酒'\n",
    "print(f'如果今天朋友来访，我们就{a}不{b}')"
   ]
  },
  {
   "cell_type": "code",
   "execution_count": 163,
   "metadata": {},
   "outputs": [
    {
     "name": "stdout",
     "output_type": "stream",
     "text": [
      "18.8%\n"
     ]
    }
   ],
   "source": [
    "#去年成绩80，今年95，今年比去年进步多百分比\n",
    "a=80\n",
    "b=95  \n",
    "r=(b-a)/a*100\n",
    "print('%.1f%%'%r)"
   ]
  },
  {
   "cell_type": "code",
   "execution_count": 192,
   "metadata": {},
   "outputs": [
    {
     "name": "stdout",
     "output_type": "stream",
     "text": [
      "['a', 'b', 'c', 'd']\n",
      "4\n",
      "a\n",
      "d\n",
      "d\n",
      "['a', 'b', 'c', 'd', 'e']\n",
      "['a', 'b', 'f', 'c', 'd', 'e']\n",
      "['a', 'b', 'f', 'c', 'd']\n",
      "['a', 'b', 'f', 'd']\n",
      "['a', 'x', 'f', 'd']\n"
     ]
    }
   ],
   "source": [
    "classmates=['a','b','c','d']\n",
    "print(classmates)\n",
    "f=len(classmates)\n",
    "print(f)\n",
    "print(classmates[0])\n",
    "print(classmates[3])\n",
    "len(classmates)-1\n",
    "print(classmates[-1])\n",
    "classmates.append('e')\n",
    "print(classmates)\n",
    "classmates.insert(2,'f')\n",
    "print(classmates)\n",
    "classmates.pop()\n",
    "print(classmates)\n",
    "classmates.pop(3)\n",
    "print(classmates)\n",
    "classmates[1]='x'\n",
    "print(classmates)"
   ]
  },
  {
   "cell_type": "markdown",
   "metadata": {},
   "source": [
    "追加元素到末尾：.append('插入内容')\n",
    "插入元素到指定位置：.insert(索引位置,'插入内容')\n",
    "删除末尾元素：.pop()\n",
    "删除指定元素：.pop(索引位置)\n",
    "把某个元素换成别的元素：classmates[索引位置]='元素内容'"
   ]
  },
  {
   "cell_type": "code",
   "execution_count": 2,
   "metadata": {},
   "outputs": [
    {
     "name": "stdout",
     "output_type": "stream",
     "text": [
      "['apple', ['a', 'b', 'c', 'd'], 'pear']\n",
      "d\n"
     ]
    }
   ],
   "source": [
    "X=['apple',100+300,'100+300','Ture']\n",
    "len(X) \n",
    "p=['a','b','c','d']\n",
    "X=['apple',p,'pear']\n",
    "print(X)\n",
    "print(X[1][3])"
   ]
  },
  {
   "cell_type": "code",
   "execution_count": 3,
   "metadata": {},
   "outputs": [
    {
     "data": {
      "text/plain": [
       "0"
      ]
     },
     "execution_count": 3,
     "metadata": {},
     "output_type": "execute_result"
    }
   ],
   "source": [
    "X=[]\n",
    "len(X)"
   ]
  },
  {
   "cell_type": "code",
   "execution_count": 5,
   "metadata": {},
   "outputs": [
    {
     "name": "stdout",
     "output_type": "stream",
     "text": [
      "(1, 2)\n",
      "(1,)\n"
     ]
    }
   ],
   "source": [
    "t=(1,2)\n",
    "print(t)\n",
    "t=(1,)\n",
    "print(t)"
   ]
  },
  {
   "cell_type": "markdown",
   "metadata": {},
   "source": [
    "list和tuple很相似，但tuple一旦初始化将不能被修改，无法append、pop、insert，因为不可变，所以更安全"
   ]
  },
  {
   "cell_type": "code",
   "execution_count": 6,
   "metadata": {},
   "outputs": [
    {
     "name": "stdout",
     "output_type": "stream",
     "text": [
      "('A', 'B', ['x', 'Y'])\n"
     ]
    }
   ],
   "source": [
    "t=('A','B',['a','b'])\n",
    "t[2][0]='x'\n",
    "t[2][1]='Y'\n",
    "print(t)"
   ]
  },
  {
   "cell_type": "markdown",
   "metadata": {},
   "source": [
    "tuple每个元素本身的指向永远不变，但指向的list本身可变"
   ]
  },
  {
   "cell_type": "code",
   "execution_count": 11,
   "metadata": {},
   "outputs": [
    {
     "name": "stdout",
     "output_type": "stream",
     "text": [
      "your age is 15\n",
      "teenager\n",
      "your age is 15\n",
      "teenager\n"
     ]
    }
   ],
   "source": [
    "age=15\n",
    "if age>=18:\n",
    "    print('your age is',age)\n",
    "    print('adult')\n",
    "else:\n",
    "    print('your age is',age)\n",
    "    print('teenager')\n",
    "\n",
    "age=15\n",
    "if age>=18:\n",
    "    print('your age is',age)\n",
    "    print('adult')\n",
    "elif age>=6:\n",
    "    print('your age is',age)\n",
    "    print('teenager')\n",
    "else:\n",
    "    print('your age is',age)\n",
    "    print('kid')"
   ]
  },
  {
   "cell_type": "markdown",
   "metadata": {},
   "source": [
    "if/elif/else 注意一定要加：（冒号）"
   ]
  },
  {
   "cell_type": "code",
   "execution_count": 19,
   "metadata": {},
   "outputs": [
    {
     "name": "stdout",
     "output_type": "stream",
     "text": [
      "True\n"
     ]
    }
   ],
   "source": [
    "X=0\n",
    "if X>=0:\n",
    "    print('True')"
   ]
  },
  {
   "cell_type": "code",
   "execution_count": 23,
   "metadata": {},
   "outputs": [
    {
     "name": "stdout",
     "output_type": "stream",
     "text": [
      "90前\n"
     ]
    }
   ],
   "source": [
    "s=input('birth:')\n",
    "birth=int(s)\n",
    "if birth>=1990:\n",
    "    print('90后')\n",
    "else:\n",
    "    print('90前')\n"
   ]
  },
  {
   "cell_type": "markdown",
   "metadata": {},
   "source": [
    "input()返回的数据类型是str，str不能直接和整数比较，须把str用int()函数来转换成整数"
   ]
  },
  {
   "cell_type": "code",
   "execution_count": 40,
   "metadata": {},
   "outputs": [
    {
     "name": "stdout",
     "output_type": "stream",
     "text": [
      "正常\n"
     ]
    }
   ],
   "source": [
    "#练习：yurri身高1.6，体重55kg，请根据BMI公式（体重除以身高的平方）帮小明计算他的BMI指数，并根据BMI指数：\n",
    "# 低于18.5：过轻   \n",
    "# 18.5-25：正常\n",
    "# 25-28：过重\n",
    "# 28-32：肥胖\n",
    "# 高于32：严重肥胖\n",
    "\n",
    "height=1.6\n",
    "weight=55\n",
    "BMI=weight/height**2\n",
    "if BMI<18.5:\n",
    "    print('过轻')\n",
    "elif 18.5<=BMI<=25:\n",
    "    print('正常')\n",
    "elif BMI>25 and BMI<=28:\n",
    "    print('过重')\n",
    "elif 28<BMI<=32:\n",
    "    print('肥胖')\n",
    "else:\n",
    "    print('严重肥胖')"
   ]
  },
  {
   "cell_type": "markdown",
   "metadata": {},
   "source": [
    "遇到数值范围，类似于：（18.5-25：正常） 可以表达为 \n",
    "if BMI>=18.5 and BMI<=25: 或\n",
    "if 18.5<=BMI<=25"
   ]
  },
  {
   "cell_type": "code",
   "execution_count": 44,
   "metadata": {},
   "outputs": [
    {
     "name": "stdout",
     "output_type": "stream",
     "text": [
      "张三\n",
      "李四\n",
      "王二麻子\n",
      "狗蛋\n",
      "杨虾米\n",
      "周小鱼\n",
      "周大鱼\n"
     ]
    }
   ],
   "source": [
    "names=['张三','李四','王二麻子','狗蛋','杨虾米','周小鱼','周大鱼']\n",
    "for name in names:\n",
    "    print(name)"
   ]
  },
  {
   "cell_type": "code",
   "execution_count": 50,
   "metadata": {},
   "outputs": [
    {
     "name": "stdout",
     "output_type": "stream",
     "text": [
      "12\n",
      "25\n",
      "40\n",
      "56\n",
      "105\n"
     ]
    }
   ],
   "source": [
    "sum=0\n",
    "for x in[12,13,15,16,49]:\n",
    "    sum=sum+x\n",
    "    print(sum)"
   ]
  },
  {
   "cell_type": "code",
   "execution_count": 53,
   "metadata": {},
   "outputs": [
    {
     "name": "stdout",
     "output_type": "stream",
     "text": [
      "5050\n"
     ]
    }
   ],
   "source": [
    "list(range(101))\n",
    "sum=0\n",
    "for x in range(101):\n",
    "    sum=sum+x\n",
    "print(sum)\n"
   ]
  },
  {
   "cell_type": "markdown",
   "metadata": {},
   "source": [
    "range()可生成整数序列，通过list()函数转换为list"
   ]
  },
  {
   "cell_type": "code",
   "execution_count": 57,
   "metadata": {},
   "outputs": [
    {
     "name": "stdout",
     "output_type": "stream",
     "text": [
      "2500\n"
     ]
    }
   ],
   "source": [
    "sum=0\n",
    "n=99\n",
    "while n>0:\n",
    "    sum=sum+n\n",
    "    n=n-2\n",
    "print(sum)"
   ]
  },
  {
   "cell_type": "code",
   "execution_count": 58,
   "metadata": {},
   "outputs": [
    {
     "name": "stdout",
     "output_type": "stream",
     "text": [
      "Hello 杨虾米\n",
      "Hello 周小鱼\n",
      "Hello 周大鱼\n"
     ]
    }
   ],
   "source": [
    "L=['杨虾米','周小鱼','周大鱼']\n",
    "for name in L:\n",
    "    print('Hello',name)"
   ]
  },
  {
   "cell_type": "code",
   "execution_count": 65,
   "metadata": {},
   "outputs": [
    {
     "name": "stdout",
     "output_type": "stream",
     "text": [
      "0\n",
      "1\n",
      "2\n",
      "3\n",
      "4\n",
      "5\n",
      "6\n",
      "7\n",
      "8\n",
      "9\n",
      "10\n",
      "END\n"
     ]
    }
   ],
   "source": [
    "n=0\n",
    "while n<=100:\n",
    "    if n>10:\n",
    "        break\n",
    "    print(n)\n",
    "    n=n+1\n",
    "print('END')"
   ]
  },
  {
   "cell_type": "code",
   "execution_count": 66,
   "metadata": {},
   "outputs": [
    {
     "name": "stdout",
     "output_type": "stream",
     "text": [
      "1\n",
      "3\n",
      "5\n",
      "7\n",
      "9\n"
     ]
    }
   ],
   "source": [
    "n=0\n",
    "while n<10:\n",
    "    n=n+1\n",
    "    if n % 2==0:  #n%2==0表示n对2取余数\n",
    "        continue\n",
    "    print(n)"
   ]
  },
  {
   "cell_type": "markdown",
   "metadata": {},
   "source": [
    "break：提前结束循环\n",
    "continue：挑过某些循环并直接开始下一轮循环\n",
    "必须配合if语句使用"
   ]
  },
  {
   "cell_type": "code",
   "execution_count": 80,
   "metadata": {},
   "outputs": [
    {
     "name": "stdout",
     "output_type": "stream",
     "text": [
      "None\n",
      "10\n",
      "{'杨虾米': 100, '周小鱼': 97}\n"
     ]
    }
   ],
   "source": [
    "d={'杨虾米':100,'周小鱼':97,'周大鱼':85}\n",
    "d['周大鱼']\n",
    "d['周大鱼']=85\n",
    "d['周大鱼']\n",
    "d['周大鱼']=90\n",
    "d['周大鱼']\n",
    "'二胖'in d\n",
    "d.get('二胖')\n",
    "a=d.get('二胖')\n",
    "print(a)\n",
    "print(d.get('二胖',10))\n",
    "d.pop('周大鱼')\n",
    "print(d)"
   ]
  },
  {
   "cell_type": "code",
   "execution_count": 84,
   "metadata": {},
   "outputs": [
    {
     "name": "stdout",
     "output_type": "stream",
     "text": [
      "{1, 2, 3}\n",
      "{1, 2, 3, 4, 5}\n",
      "{1, 2, 3, 4, 5, 9}\n",
      "{2, 3, 4, 5, 9}\n"
     ]
    }
   ],
   "source": [
    "s=set([1,2,3])\n",
    "print(s)\n",
    "s=set([1,1,3,4,2,4,5])\n",
    "print(s)\n",
    "s.add(9)\n",
    "print(s)\n",
    "s.remove(1)\n",
    "print(s)"
   ]
  },
  {
   "cell_type": "code",
   "execution_count": 88,
   "metadata": {},
   "outputs": [
    {
     "name": "stdout",
     "output_type": "stream",
     "text": [
      "{2, 3}\n",
      "{1, 2, 3, 4}\n"
     ]
    }
   ],
   "source": [
    "s1=set([1,2,3])\n",
    "s2=set([2,3,4])\n",
    "print (s1 & s2)\n",
    "print(s1 | s2)"
   ]
  },
  {
   "cell_type": "code",
   "execution_count": 92,
   "metadata": {},
   "outputs": [
    {
     "name": "stdout",
     "output_type": "stream",
     "text": [
      "{'2', '1', '3'}\n"
     ]
    }
   ],
   "source": [
    "s=set(['1','2','3'])\n",
    "print(s)"
   ]
  },
  {
   "cell_type": "code",
   "execution_count": 102,
   "metadata": {},
   "outputs": [
    {
     "name": "stdout",
     "output_type": "stream",
     "text": [
      "(1, [2, 3])\n"
     ]
    }
   ],
   "source": [
    "d=(1,[2,3])\n",
    "print(d)"
   ]
  },
  {
   "cell_type": "code",
   "execution_count": 98,
   "metadata": {},
   "outputs": [
    {
     "name": "stdout",
     "output_type": "stream",
     "text": [
      "[1, 2, 3]\n",
      "abc\n",
      "abc Abc\n"
     ]
    }
   ],
   "source": [
    "a=[2,1,3]\n",
    "a.sort()\n",
    "print(a)\n",
    "\n",
    "a='abc'\n",
    "a.replace('a','A')\n",
    "print(a)\n",
    "\n",
    "a='abc'\n",
    "b=a.replace('a','A')\n",
    "print(a,b)"
   ]
  },
  {
   "cell_type": "code",
   "execution_count": 125,
   "metadata": {},
   "outputs": [
    {
     "name": "stdout",
     "output_type": "stream",
     "text": [
      "False\n",
      "<class 'int'>\n",
      "<class 'str'>\n",
      "111 111\n"
     ]
    }
   ],
   "source": [
    "abs(-100)\n",
    "max(200,-100,3,50)\n",
    "\n",
    "print(bool(0))\n",
    "a=int('1314')\n",
    "print(type(a))\n",
    "print(type(str(1.34)))\n",
    "\n",
    "print('111',111)"
   ]
  },
  {
   "cell_type": "code",
   "execution_count": 128,
   "metadata": {},
   "outputs": [
    {
     "name": "stdout",
     "output_type": "stream",
     "text": [
      "0xff\n",
      "0x3e8\n",
      "0x4e7\n"
     ]
    }
   ],
   "source": [
    "n1=255\n",
    "n2=1000\n",
    "print(hex(n1))\n",
    "print(hex(n2))\n",
    "print(hex(n1+n2))"
   ]
  },
  {
   "cell_type": "code",
   "execution_count": 3,
   "metadata": {},
   "outputs": [
    {
     "name": "stdout",
     "output_type": "stream",
     "text": [
      "10\n",
      "110\n"
     ]
    }
   ],
   "source": [
    "a=10\n",
    "print(a)\n",
    "b=100\n",
    "print(a+b)\n"
   ]
  }
 ],
 "metadata": {
  "interpreter": {
   "hash": "c91cad84eb92f84a61167afd2b9a0c2fbbea780aaa276d731a2be37971a8d6bf"
  },
  "kernelspec": {
   "display_name": "Python 3.9.7 64-bit ('base': conda)",
   "language": "python",
   "name": "python3"
  },
  "language_info": {
   "codemirror_mode": {
    "name": "ipython",
    "version": 3
   },
   "file_extension": ".py",
   "mimetype": "text/x-python",
   "name": "python",
   "nbconvert_exporter": "python",
   "pygments_lexer": "ipython3",
   "version": "3.8.12"
  }
 },
 "nbformat": 4,
 "nbformat_minor": 4
}
